{
 "cells": [
  {
   "cell_type": "markdown",
   "metadata": {},
   "source": [
    "# Event flow oracle\n",
    "\n",
    "## Objective of this notebook\n",
    "\n",
    "Demonstrate how we can ingest a large quantity of log, while still being able to query about if certain events happened, without going through complex queries.\n",
    "\n",
    "This model can't take into account the order of the events."
   ]
  },
  {
   "cell_type": "code",
   "execution_count": 1,
   "metadata": {
    "collapsed": false
   },
   "outputs": [],
   "source": [
    "from bitarray import bitarray\n",
    "import hashlib\n",
    "import numpy as np\n",
    "import pandas as pd\n",
    "import math\n",
    "import random\n",
    "from string import Template\n",
    "import copy\n",
    "from datetime import datetime, date, time, timedelta\n",
    "\n",
    "%load_ext autoreload\n",
    "%autoreload 2\n",
    "from blackbox import generate_userlist, generate_logs\n"
   ]
  },
  {
   "cell_type": "code",
   "execution_count": 2,
   "metadata": {
    "collapsed": true
   },
   "outputs": [],
   "source": [
    "bit_size = 19\n",
    "activate_real_mode = True\n",
    "activate_sampling = False\n",
    "probability_of_actually_writing = 0.9\n",
    "probability_of_keeping_sample = 0.05\n",
    "\n",
    "random_seed = 42"
   ]
  },
  {
   "cell_type": "code",
   "execution_count": 3,
   "metadata": {
    "collapsed": false
   },
   "outputs": [
    {
     "name": "stdout",
     "output_type": "stream",
     "text": [
      "Capacity for a theoritical maximum of ~0M entries (0.0625MB)\n",
      "Effective capacity for an 99% accuracy: ~0M entries\n"
     ]
    }
   ],
   "source": [
    "bit_array_size = 2**bit_size\n",
    "bit_array_accuracy_test_size = 2**bit_size\n",
    "\n",
    "# Initialization of the array of bit\n",
    "bit_array_real = bitarray(bit_array_size)\n",
    "bit_array_accuracy_test = bitarray(bit_array_accuracy_test_size)\n",
    "\n",
    "bit_array_real.setall(0)\n",
    "bit_array_accuracy_test.setall(0)\n",
    "print(\"Capacity for a theoritical maximum of ~{}M entries ({}MB)\".format(math.floor(bit_array_size/2/1000000), bit_array_size/8/1024/1024))\n",
    "print(\"Effective capacity for an 99% accuracy: ~{}M entries\".format(math.floor(bit_array_size/2*0.3/1000000)))"
   ]
  },
  {
   "cell_type": "code",
   "execution_count": 4,
   "metadata": {
    "collapsed": true
   },
   "outputs": [],
   "source": [
    "# rules\n",
    "rulesets = [ \n",
    "    {\"name\": Template(\"user '$who' possible account takeover to buy physical item\"),\n",
    "     \"conditions\": [\n",
    "         {\"condition\": Template('5x $who login failed'), \"expected\": True},\n",
    "         {\"condition\": Template('$who login successfully'), \"expected\": True},\n",
    "         {\"condition\": Template('$who reset password'), \"expected\": False},\n",
    "         {\"condition\": Template('$who change address'), \"expected\": True},\n",
    "         {\"condition\": Template('$who buy item'), \"expected\": True}\n",
    "     ]\n",
    "    },\n",
    "    {\"name\": Template(\"user '$who' possible account takeover to buy virtual item\"),\n",
    "     \"conditions\": [\n",
    "         {\"condition\": Template('2x $who login failed'), \"expected\": True},\n",
    "         {\"condition\": Template('$who login successfully'), \"expected\": True},\n",
    "         {\"condition\": Template('$who reset password'), \"expected\": False},\n",
    "         {\"condition\": Template('$who change email'), \"expected\": True},\n",
    "         {\"condition\": Template('2x $who buy item'), \"expected\": True}\n",
    "     ]\n",
    "    },\n",
    "    {\"name\": Template(\"user '$who' excessive buying behaviour\"),\n",
    "     \"conditions\": [\n",
    "         {\"condition\": Template('$who login successfully'), \"expected\": True},\n",
    "         {\"condition\": Template('7x $who buy item'), \"expected\": True}\n",
    "     ]\n",
    "    }\n",
    "]\n",
    "        \n",
    "events = [\n",
    "    {\"user\": \"alice\", \"body\": \"alice login successfully\"},\n",
    "    {\"user\": \"alice\", \"body\": \"alice buy item\"},\n",
    "    {\"user\": \"alice\", \"body\": \"alice buy item\"},\n",
    "    {\"user\": \"alice\", \"body\": \"alice buy item\"},\n",
    "    {\"user\": \"alice\", \"body\": \"alice buy item\"},\n",
    "    {\"user\": \"alice\", \"body\": \"alice buy item\"},\n",
    "    {\"user\": \"alice\", \"body\": \"alice buy item\"},\n",
    "    {\"user\": \"bob\", \"body\": \"bob login failed\"},\n",
    "    {\"user\": \"bob\", \"body\": \"bob login failed\"},\n",
    "    {\"user\": \"bob\", \"body\": \"bob login failed\"},\n",
    "    {\"user\": \"bob\", \"body\": \"bob login failed\"},\n",
    "    {\"user\": \"bob\", \"body\": \"bob login failed\"},\n",
    "    {\"user\": \"bob\", \"body\": \"bob login failed\"},\n",
    "    {\"user\": \"bob\", \"body\": \"bob reset password\"},\n",
    "    {\"user\": \"bob\", \"body\": \"bob login successfully\"},\n",
    "    {\"user\": \"bob\", \"body\": \"bob buy item\"},\n",
    "    {\"user\": \"bob\", \"body\": \"bob buy item\"},\n",
    "    {\"user\": \"bob\", \"body\": \"bob buy item\"},\n",
    "    {\"user\": \"bob\", \"body\": \"bob buy item\"},\n",
    "    {\"user\": \"bob\", \"body\": \"bob buy item\"},\n",
    "    {\"user\": \"bob\", \"body\": \"bob buy item\"},\n",
    "    {\"user\": \"bob\", \"body\": \"bob buy item\"},\n",
    "    {\"user\": \"bob\", \"body\": \"bob buy item\"},\n",
    "    {\"user\": \"bob\", \"body\": \"bob buy item\"},\n",
    "    {\"user\": \"charlie\", \"body\": \"charlie login failed\"},\n",
    "    {\"user\": \"charlie\", \"body\": \"charlie login failed\"},\n",
    "    {\"user\": \"charlie\", \"body\": \"charlie login failed\"},\n",
    "    {\"user\": \"charlie\", \"body\": \"charlie login failed\"},\n",
    "    {\"user\": \"charlie\", \"body\": \"charlie login successfully\"},\n",
    "    {\"user\": \"charlie\", \"body\": \"charlie change address\"},\n",
    "    {\"user\": \"charlie\", \"body\": \"charlie buy item\"},\n",
    "    {\"user\": \"eve\", \"body\": \"eve login failed\"},\n",
    "    {\"user\": \"eve\", \"body\": \"eve login failed\"},\n",
    "    {\"user\": \"eve\", \"body\": \"eve login failed\"},\n",
    "    {\"user\": \"eve\", \"body\": \"eve login failed\"},\n",
    "    {\"user\": \"eve\", \"body\": \"eve login failed\"},\n",
    "    {\"user\": \"eve\", \"body\": \"eve login failed\"},\n",
    "    {\"user\": \"eve\", \"body\": \"eve login successfully\"},\n",
    "    {\"user\": \"eve\", \"body\": \"eve change address\"},\n",
    "    {\"user\": \"eve\", \"body\": \"eve buy item\"},\n",
    "]"
   ]
  },
  {
   "cell_type": "code",
   "execution_count": 5,
   "metadata": {
    "collapsed": false
   },
   "outputs": [],
   "source": [
    "def process_word(data, size):\n",
    "    data_unicode = data.encode('utf-8')\n",
    "    hash_md5 = hashlib.md5(data_unicode).digest()\n",
    "    hash_sha1 = hashlib.sha1(data_unicode).digest()\n",
    "    offset_md5 = int.from_bytes(hash_md5, \"little\") % size\n",
    "    offset_sha1 = int.from_bytes(hash_sha1, \"little\") % size\n",
    "    return {\"data\": data, \"offsetMD5\": offset_md5, \"offsetSHA1\": offset_sha1}\n",
    "\n",
    "def record_word(array, offset):\n",
    "    array[offset]=True\n",
    "    \n",
    "def query_oracle(array, payload):\n",
    "    if array[payload['offsetMD5']] and array[payload['offsetSHA1']]:\n",
    "        return True\n",
    "    return False"
   ]
  },
  {
   "cell_type": "code",
   "execution_count": 6,
   "metadata": {
    "collapsed": true
   },
   "outputs": [],
   "source": [
    "def execute_ruleset(array, rulesets):\n",
    "    matches = []\n",
    "    \n",
    "    for r in rulesets:\n",
    "        match = True\n",
    "        for cc in r['conditions']:\n",
    "            payload = process_word(cc['condition'], len(array))\n",
    "            \n",
    "            if query_oracle(array, payload):\n",
    "                if cc['expected'] == False:\n",
    "                    match = False\n",
    "            else:\n",
    "                if cc['expected'] != False: \n",
    "                    match = False\n",
    "        if match:\n",
    "            matches.append(r)\n",
    "    \n",
    "    return matches\n",
    "\n",
    "def customize_rules(rulesets, user):\n",
    "    blank = copy.deepcopy(rulesets)\n",
    "    for r in blank:\n",
    "        r['name'] = r['name'].substitute(who=user)\n",
    "        r['user'] = user\n",
    "        for c in r['conditions']:\n",
    "            c['condition'] = c['condition'].substitute(who=user)\n",
    "    return blank"
   ]
  },
  {
   "cell_type": "code",
   "execution_count": 7,
   "metadata": {
    "collapsed": false
   },
   "outputs": [],
   "source": [
    "def write_to_oracle_stage2(array, body, record_chance, keep_chance, counter=1):\n",
    "    result = {\"word\": None, \"saved\": False}\n",
    "    \n",
    "    # handling recursion and repetition of events\n",
    "    if counter > 1: \n",
    "        updated_body = \"{}x \".format(counter) + body\n",
    "    else:\n",
    "        updated_body = body\n",
    "\n",
    "    payload = process_word(updated_body, len(array))\n",
    "    \n",
    "    if query_oracle(array, payload) and counter < 100: # this will be true if the body was observed already\n",
    "        try:\n",
    "            return write_to_oracle_stage2(array, body, record_chance, keep_chance, counter+1)\n",
    "        except:\n",
    "            print('crash at dept {}'.format(counter))\n",
    "        \n",
    "    else:\n",
    "        # we are at the end of the recursion, this is where real operations are done\n",
    "        saved = False\n",
    "        if random.random() < record_chance or counter > 1:\n",
    "            saved = True\n",
    "            record_word(array, payload['offsetMD5'])\n",
    "            record_word(array, payload['offsetSHA1'])\n",
    "\n",
    "        if random.random() < keep_chance:\n",
    "            result['word'] = payload['data']\n",
    "            result['saved'] = saved\n",
    "            \n",
    "        return result"
   ]
  },
  {
   "cell_type": "code",
   "execution_count": 8,
   "metadata": {
    "collapsed": false
   },
   "outputs": [],
   "source": [
    "def write_to_oracle_stage1(array, event, probability_of_actually_writing=1, probability_of_keeping_sample=1):\n",
    "    user = event['user']\n",
    "    body = event['body']\n",
    "    \n",
    "    result = write_to_oracle_stage2(array, body, probability_of_actually_writing, probability_of_keeping_sample)\n",
    "    result['user'] = user\n",
    "\n",
    "    return result\n",
    "\n",
    "def check_for_applying_rules(array, rulesets, user):\n",
    "    customized_rulesets = customize_rules(rulesets, user)\n",
    "    \n",
    "    return execute_ruleset(array, customized_rulesets)\n",
    "    \n",
    "def test_for_collisions(array, event):\n",
    "    user = event['user']\n",
    "    body = event['word']\n",
    "    \n",
    "    payload = process_word(body, len(array))\n",
    "    \n",
    "    offset_md5 = array[payload['offsetMD5']]\n",
    "    offset_sha1 = array[payload['offsetSHA1']]\n",
    "    \n",
    "    event['observed'] = offset_md5 and offset_sha1\n",
    "    event['accurate'] = False\n",
    "    \n",
    "    if event['observed'] == event['saved']:\n",
    "        event['accurate'] = True\n",
    "    else:\n",
    "        print(payload['data'], event['observed'], 'expecting', event['saved'], \"returning Accurate:{}\".format(event['accurate']))\n",
    "        \n",
    "    return event"
   ]
  },
  {
   "cell_type": "code",
   "execution_count": 9,
   "metadata": {
    "collapsed": false
   },
   "outputs": [
    {
     "name": "stdout",
     "output_type": "stream",
     "text": [
      "{'name': \"user 'bob' excessive buying behaviour\", 'conditions': [{'condition': 'bob login successfully', 'expected': True}, {'condition': '7x bob buy item', 'expected': True}], 'user': 'bob'}\n",
      "{'name': \"user 'bob' excessive buying behaviour\", 'conditions': [{'condition': 'bob login successfully', 'expected': True}, {'condition': '7x bob buy item', 'expected': True}], 'user': 'bob'}\n",
      "{'name': \"user 'bob' excessive buying behaviour\", 'conditions': [{'condition': 'bob login successfully', 'expected': True}, {'condition': '7x bob buy item', 'expected': True}], 'user': 'bob'}\n",
      "{'name': \"user 'eve' possible account takeover to buy physical item\", 'conditions': [{'condition': '5x eve login failed', 'expected': True}, {'condition': 'eve login successfully', 'expected': True}, {'condition': 'eve reset password', 'expected': False}, {'condition': 'eve change address', 'expected': True}, {'condition': 'eve buy item', 'expected': True}], 'user': 'eve'}\n",
      "\n",
      "array capacity: 64K. used 0.0%\n",
      "CPU times: user 13.5 ms, sys: 151 µs, total: 13.7 ms\n",
      "Wall time: 13.6 ms\n"
     ]
    }
   ],
   "source": [
    "%%time\n",
    "def main(events):\n",
    "    global bit_array_real\n",
    "    global bit_array_accuracy_test\n",
    "    \n",
    "    global rulesets\n",
    "    event_counter = 0\n",
    "    sample_size = 0\n",
    "    collisions = []    \n",
    "    \n",
    "    for e in events:\n",
    "        if activate_real_mode:\n",
    "            real_write_result = write_to_oracle_stage1(bit_array_real, e)\n",
    "            matching_rules = check_for_applying_rules(bit_array_real, rulesets, real_write_result['user'])\n",
    "\n",
    "            for m in matching_rules:\n",
    "                print(m)\n",
    "\n",
    "        if activate_sampling:\n",
    "            sampling_write_result = write_to_oracle_stage1(bit_array_accuracy_test, e, probability_of_actually_writing, probability_of_keeping_sample)           \n",
    "            event_counter+=1\n",
    "            if sampling_write_result['word']:\n",
    "                sample_size+=1\n",
    "                tested_event = test_for_collisions(bit_array_accuracy_test, sampling_write_result)\n",
    "\n",
    "                if not tested_event['accurate']:\n",
    "                    print('was it correctly_classified?', tested_event)\n",
    "                    collisions.append(tested_event)\n",
    "                \n",
    "    \n",
    "    print(\"\\narray capacity: {}K. used {}%\".format(math.floor(bit_array_accuracy_test_size/8/1024), event_counter*2/bit_array_accuracy_test_size*100))\n",
    "    if activate_sampling:\n",
    "        print(\"{} misclassification over {} events: {}\".format(len(collisions), sample_size, len(collisions)/sample_size))\n",
    "        for c in collisions:\n",
    "            print(c)\n",
    "\n",
    "if random_seed:\n",
    "    random.seed(random_seed)\n",
    "\n",
    "bit_array_real.setall(0)\n",
    "bit_array_accuracy_test.setall(0)\n",
    "\n",
    "main(events)"
   ]
  },
  {
   "cell_type": "code",
   "execution_count": 10,
   "metadata": {
    "collapsed": false
   },
   "outputs": [
    {
     "name": "stdout",
     "output_type": "stream",
     "text": [
      "2000 users in the database.\n",
      "Type of the 15 firsts: ['normal', 'normal', 'normal', 'normal', 'normal', 'normal', 'normal', 'normal', 'normal', 'normal', 'normal', 'normal', 'normal', 'normal', 'normal']\n"
     ]
    }
   ],
   "source": [
    "if random_seed:\n",
    "    random.seed(random_seed)\n",
    "\n",
    "number_of_users = 2000\n",
    "all_user_lists = generate_userlist(number_of_users)\n",
    "todays_user_lists = random.sample(all_user_lists, number_of_users)\n",
    "\n",
    "print(len(todays_user_lists), 'users in the database.')\n",
    "print('Type of the 15 firsts:', todays_user_lists[:15])"
   ]
  },
  {
   "cell_type": "code",
   "execution_count": 11,
   "metadata": {
    "collapsed": false
   },
   "outputs": [
    {
     "name": "stdout",
     "output_type": "stream",
     "text": [
      "16390 log events generated for 2000 users\n",
      "* Bit Array capacity evaluated to 6.252288818359375%\n"
     ]
    }
   ],
   "source": [
    "start_time = datetime(2019,1,1,0,0)\n",
    "day1_logs = generate_logs(todays_user_lists, start_time)\n",
    "\n",
    "print(len(day1_logs), 'log events generated for', len(todays_user_lists), 'users')\n",
    "\n",
    "print('* Bit Array capacity evaluated to {}%'.format(len(day1_logs)/(len(bit_array_real)/2) * 100))"
   ]
  },
  {
   "cell_type": "code",
   "execution_count": 12,
   "metadata": {
    "collapsed": false
   },
   "outputs": [
    {
     "name": "stdout",
     "output_type": "stream",
     "text": [
      "                    time             user              action   status\n",
      "1    2019-01-01 00:00:22   compromised152        login failed  success\n",
      "4    2019-01-01 00:00:27   compromised152  login successfully  success\n",
      "5    2019-01-01 00:00:28   compromised152        view profile  success\n",
      "6    2019-01-01 00:00:33   compromised152            buy item  success\n",
      "7    2019-01-01 00:00:34   compromised152            buy item  success\n",
      "10   2019-01-01 00:00:38   compromised152            buy item  success\n",
      "11   2019-01-01 00:00:40   compromised152              logout  success\n",
      "12   2019-01-01 00:00:41   compromised152                 end  success\n",
      "384  2019-01-01 00:32:47  compromised1916        login failed  success\n",
      "385  2019-01-01 00:32:51  compromised1916        login failed  success\n"
     ]
    }
   ],
   "source": [
    "def transform_logs_to_pandas(logs):\n",
    "    data = pd.DataFrame(np.array(logs), columns=['time', 'user', 'action', 'status', 'uidx', 'realtype'])\n",
    "    \n",
    "#     data['prev_path'] = data.groupby(['user'])['path'].shift(1)\n",
    "#     data['prev_path'] = data['prev_path'].fillna(\"\")\n",
    "    return data\n",
    "    \n",
    "day1_data = transform_logs_to_pandas(day1_logs)\n",
    "\n",
    "# Example of failed actions in the logs. uidx and realtype are \"cheat\" columns, and not necessary in a real case usage.\n",
    "print(day1_data[day1_data['realtype'] == 'compromised'].head(10)[['time','user', 'action', 'status']])"
   ]
  },
  {
   "cell_type": "code",
   "execution_count": 13,
   "metadata": {
    "collapsed": false
   },
   "outputs": [
    {
     "name": "stdout",
     "output_type": "stream",
     "text": [
      "user 'compromised1916' possible account takeover to buy virtual item\n",
      "user 'compromised1916' excessive buying behaviour\n",
      "user 'normal869' excessive buying behaviour\n",
      "user 'compromised766' excessive buying behaviour\n",
      "user 'compromised1292' excessive buying behaviour\n",
      "user 'compromised1636' excessive buying behaviour\n",
      "user 'compromised1141' possible account takeover to buy virtual item\n",
      "user 'compromised826' excessive buying behaviour\n",
      "user 'compromised1715' excessive buying behaviour\n",
      "user 'normal306' excessive buying behaviour\n",
      "user 'compromised1323' excessive buying behaviour\n",
      "user 'compromised652' excessive buying behaviour\n",
      "user 'compromised1221' possible account takeover to buy virtual item\n",
      "user 'compromised1221' excessive buying behaviour\n",
      "user 'compromised272' excessive buying behaviour\n",
      "user 'compromised743' excessive buying behaviour\n",
      "user 'compromised250' possible account takeover to buy virtual item\n",
      "user 'compromised250' excessive buying behaviour\n",
      "user 'compromised1295' possible account takeover to buy virtual item\n",
      "user 'compromised1295' excessive buying behaviour\n",
      "\n",
      "array capacity: 64K. used 0.0003814697265625%\n",
      "CPU times: user 7.43 s, sys: 28.3 ms, total: 7.46 s\n",
      "Wall time: 7.5 s\n"
     ]
    }
   ],
   "source": [
    "%%time\n",
    "\n",
    "if random_seed:\n",
    "    random.seed(random_seed)\n",
    "\n",
    "\n",
    "def full_main(df):\n",
    "    global bit_array_real\n",
    "    global bit_array_accuracy_test\n",
    "    \n",
    "    global rulesets\n",
    "    event_counter = 1\n",
    "    sample_size = 0\n",
    "    collisions = []\n",
    "    \n",
    "    triggered_rules = []\n",
    "    identified_users = []\n",
    "    \n",
    "#     print(df[df['realtype'] == 'compromised'].head(10)[['time','user', 'action', 'status']])\n",
    "    \n",
    "    for index, row in df.iterrows():\n",
    "        e = {\"user\": row['user'], \"body\": \"{} {}\".format(row['user'], row['action'])}\n",
    "\n",
    "        if activate_real_mode:\n",
    "            real_write_result = write_to_oracle_stage1(bit_array_real, e)\n",
    "            matching_rules = check_for_applying_rules(bit_array_real, rulesets, real_write_result['user'])\n",
    "\n",
    "            for m in matching_rules:\n",
    "                if m not in triggered_rules:\n",
    "                    print(m['name'])\n",
    "                    triggered_rules.append(m)\n",
    "                if m['user'] not in identified_users:\n",
    "                    identified_users.append(m['user'])\n",
    "                \n",
    "        if activate_sampling:\n",
    "            sampling_write_result = write_to_oracle_stage1(bit_array_accuracy_test, e, probability_of_actually_writing, probability_of_keeping_sample)           \n",
    "            event_counter+=1\n",
    "            \n",
    "            if sampling_write_result['word']:\n",
    "                sample_size+=1\n",
    "                tested_event = test_for_collisions(bit_array_accuracy_test, sampling_write_result)\n",
    "            \n",
    "                if not tested_event['accurate']:\n",
    "                    print('was it correctly_classified?', tested_event)\n",
    "                    collisions.append(tested_event)\n",
    "\n",
    "\n",
    "\n",
    "    print(\"\\narray capacity: {}K. used {}%\".format(math.floor(bit_array_accuracy_test_size/8/1024), event_counter*2/bit_array_accuracy_test_size*100))\n",
    "    if activate_sampling:\n",
    "        print(\"{} collisions over {} events: {}\".format(len(collisions), event_counter, len(collisions)/event_counter))\n",
    "        for c in collisions[:10]:\n",
    "            print(c)\n",
    "    \n",
    "    return {'triggered_rules': triggered_rules, 'identified_users': identified_users}\n",
    "            \n",
    "\n",
    "\n",
    "bit_array_real.setall(0)\n",
    "bit_array_accuracy_test.setall(0)\n",
    "\n",
    "outcome = full_main(day1_data)"
   ]
  },
  {
   "cell_type": "code",
   "execution_count": 14,
   "metadata": {
    "collapsed": false
   },
   "outputs": [
    {
     "name": "stdout",
     "output_type": "stream",
     "text": [
      "Users who triggered rules: 16\n",
      "* compromised1916\n",
      "* normal869\n",
      "* compromised766\n",
      "* compromised1292\n",
      "* compromised1636\n",
      "* compromised1141\n",
      "* compromised826\n",
      "* compromised1715\n",
      "* normal306\n",
      "* compromised1323\n",
      "* compromised652\n",
      "* compromised1221\n",
      "* compromised272\n",
      "* compromised743\n",
      "* compromised250\n",
      "* compromised1295\n",
      "total triggered rules: 20\n",
      "real number of compromised accounts: 24\n"
     ]
    }
   ],
   "source": [
    "if activate_real_mode:\n",
    "    print('Users who triggered rules: {}'.format(len(outcome['identified_users'])))\n",
    "    for i in outcome['identified_users']:\n",
    "        print(\"* {}\".format(i))\n",
    "    print('total triggered rules: {}'.format(len(outcome['triggered_rules'])))\n",
    "    print('real number of compromised accounts: {}'.format(len(day1_data[day1_data['realtype'] == 'compromised']['user'].unique())))"
   ]
  },
  {
   "cell_type": "code",
   "execution_count": 15,
   "metadata": {
    "collapsed": false
   },
   "outputs": [
    {
     "name": "stdout",
     "output_type": "stream",
     "text": [
      "successfully identified compromised accounts:\n",
      "                      time             user              action   status\n",
      "384    2019-01-01 00:32:47  compromised1916        login failed  success\n",
      "385    2019-01-01 00:32:51  compromised1916        login failed  success\n",
      "387    2019-01-01 00:32:56  compromised1916        login failed  success\n",
      "388    2019-01-01 00:32:57  compromised1916        login failed  success\n",
      "389    2019-01-01 00:32:59  compromised1916        login failed  success\n",
      "391    2019-01-01 00:33:01  compromised1916        login failed  success\n",
      "392    2019-01-01 00:33:05  compromised1916        login failed  success\n",
      "393    2019-01-01 00:33:08  compromised1916        login failed  success\n",
      "394    2019-01-01 00:33:09  compromised1916  login successfully  success\n",
      "396    2019-01-01 00:33:10  compromised1916        view profile  success\n",
      "397    2019-01-01 00:33:15  compromised1916        change email  success\n",
      "398    2019-01-01 00:33:20  compromised1916            buy item  success\n",
      "400    2019-01-01 00:33:24  compromised1916            buy item  success\n",
      "402    2019-01-01 00:33:28  compromised1916           view item  success\n",
      "403    2019-01-01 00:33:32  compromised1916            buy item  success\n",
      "404    2019-01-01 00:33:33  compromised1916            buy item  success\n",
      "406    2019-01-01 00:33:34  compromised1916            buy item  success\n",
      "407    2019-01-01 00:33:35  compromised1916            buy item  success\n",
      "408    2019-01-01 00:33:37  compromised1916           view item  success\n",
      "410    2019-01-01 00:33:38  compromised1916            buy item  success\n",
      "412    2019-01-01 00:33:40  compromised1916            buy item  success\n",
      "413    2019-01-01 00:33:43  compromised1916           view item  success\n",
      "414    2019-01-01 00:33:48  compromised1916            buy item  success\n",
      "418    2019-01-01 00:33:53  compromised1916                 end  success\n",
      "4764   2019-01-01 07:22:02   compromised766        login failed  success\n",
      "4767   2019-01-01 07:22:07   compromised766        login failed  success\n",
      "4768   2019-01-01 07:22:08   compromised766        login failed  success\n",
      "4770   2019-01-01 07:22:12   compromised766        login failed  success\n",
      "4771   2019-01-01 07:22:13   compromised766  login successfully  success\n",
      "4772   2019-01-01 07:22:14   compromised766        view profile  success\n",
      "...                    ...              ...                 ...      ...\n",
      "12425  2019-01-01 18:39:28   compromised250            buy item  success\n",
      "12426  2019-01-01 18:39:33   compromised250            buy item  success\n",
      "12427  2019-01-01 18:39:34   compromised250            buy item  success\n",
      "12428  2019-01-01 18:39:37   compromised250            buy item  success\n",
      "12430  2019-01-01 18:39:42   compromised250            buy item  success\n",
      "12432  2019-01-01 18:39:44   compromised250            buy item  success\n",
      "12433  2019-01-01 18:39:48   compromised250           view item  success\n",
      "12434  2019-01-01 18:39:52   compromised250           view item  success\n",
      "12436  2019-01-01 18:39:56   compromised250           view item  success\n",
      "12437  2019-01-01 18:40:00   compromised250            buy item  success\n",
      "12440  2019-01-01 18:40:01   compromised250              logout  success\n",
      "12441  2019-01-01 18:40:05   compromised250                 end  success\n",
      "12946  2019-01-01 19:22:02  compromised1295        login failed  success\n",
      "12947  2019-01-01 19:22:06  compromised1295        login failed  success\n",
      "12949  2019-01-01 19:22:08  compromised1295  login successfully  success\n",
      "12950  2019-01-01 19:22:12  compromised1295        view profile  success\n",
      "12952  2019-01-01 19:22:16  compromised1295        change email  success\n",
      "12955  2019-01-01 19:22:20  compromised1295            buy item  success\n",
      "12957  2019-01-01 19:22:21  compromised1295           view item  success\n",
      "12958  2019-01-01 19:22:24  compromised1295            buy item  success\n",
      "12960  2019-01-01 19:22:27  compromised1295            buy item  success\n",
      "12963  2019-01-01 19:22:30  compromised1295            buy item  success\n",
      "12964  2019-01-01 19:22:35  compromised1295            buy item  success\n",
      "12965  2019-01-01 19:22:40  compromised1295            buy item  success\n",
      "12968  2019-01-01 19:22:45  compromised1295            buy item  success\n",
      "12969  2019-01-01 19:22:49  compromised1295           view item  success\n",
      "12971  2019-01-01 19:22:53  compromised1295           view item  success\n",
      "12975  2019-01-01 19:22:56  compromised1295           view item  success\n",
      "12977  2019-01-01 19:22:58  compromised1295            buy item  success\n",
      "12978  2019-01-01 19:23:00  compromised1295                 end  success\n",
      "\n",
      "[352 rows x 4 columns]\n"
     ]
    }
   ],
   "source": [
    "if activate_real_mode:\n",
    "    print('successfully identified compromised accounts:')\n",
    "    print(day1_data[\n",
    "        (day1_data['realtype'] == 'compromised') & (day1_data['user'].isin(outcome['identified_users']))\n",
    "    ][['time','user', 'action', 'status']])"
   ]
  },
  {
   "cell_type": "code",
   "execution_count": 16,
   "metadata": {
    "collapsed": false
   },
   "outputs": [
    {
     "name": "stdout",
     "output_type": "stream",
     "text": [
      "missed compromised accounts:\n",
      "                      time             user              action   status\n",
      "1      2019-01-01 00:00:22   compromised152        login failed  success\n",
      "4      2019-01-01 00:00:27   compromised152  login successfully  success\n",
      "5      2019-01-01 00:00:28   compromised152        view profile  success\n",
      "6      2019-01-01 00:00:33   compromised152            buy item  success\n",
      "7      2019-01-01 00:00:34   compromised152            buy item  success\n",
      "10     2019-01-01 00:00:38   compromised152            buy item  success\n",
      "11     2019-01-01 00:00:40   compromised152              logout  success\n",
      "12     2019-01-01 00:00:41   compromised152                 end  success\n",
      "2003   2019-01-01 03:16:47    compromised20        login failed  success\n",
      "2005   2019-01-01 03:16:48    compromised20        login failed  success\n",
      "2007   2019-01-01 03:16:53    compromised20        login failed  success\n",
      "2008   2019-01-01 03:16:54    compromised20        login failed  success\n",
      "2009   2019-01-01 03:16:55    compromised20                 end  success\n",
      "2154   2019-01-01 03:28:03   compromised101        login failed  success\n",
      "2156   2019-01-01 03:28:05   compromised101                 end  success\n",
      "4690   2019-01-01 07:16:13  compromised1733        login failed  success\n",
      "4691   2019-01-01 07:16:14  compromised1733        login failed  success\n",
      "4693   2019-01-01 07:16:19  compromised1733        login failed  success\n",
      "4694   2019-01-01 07:16:20  compromised1733        login failed  success\n",
      "4696   2019-01-01 07:16:24  compromised1733                 end  success\n",
      "4947   2019-01-01 07:35:59  compromised1512        login failed  success\n",
      "4948   2019-01-01 07:36:04  compromised1512        login failed  success\n",
      "4950   2019-01-01 07:36:09  compromised1512        login failed  success\n",
      "4952   2019-01-01 07:36:14  compromised1512        login failed  success\n",
      "4953   2019-01-01 07:36:18  compromised1512        login failed  success\n",
      "4954   2019-01-01 07:36:23  compromised1512        login failed  success\n",
      "4955   2019-01-01 07:36:27  compromised1512        login failed  success\n",
      "4956   2019-01-01 07:36:30  compromised1512        login failed  success\n",
      "4957   2019-01-01 07:36:31  compromised1512  login successfully  success\n",
      "4958   2019-01-01 07:36:34  compromised1512        view profile  success\n",
      "...                    ...              ...                 ...      ...\n",
      "4967   2019-01-01 07:36:44  compromised1512            buy item  success\n",
      "4968   2019-01-01 07:36:46  compromised1512           view item  success\n",
      "4969   2019-01-01 07:36:48  compromised1512            buy item  success\n",
      "4970   2019-01-01 07:36:50  compromised1512            buy item  success\n",
      "4971   2019-01-01 07:36:52  compromised1512              logout  success\n",
      "4972   2019-01-01 07:36:57  compromised1512                 end  success\n",
      "6922   2019-01-01 10:37:50   compromised184        login failed  success\n",
      "6923   2019-01-01 10:37:53   compromised184        login failed  success\n",
      "6924   2019-01-01 10:37:58   compromised184        login failed  success\n",
      "6925   2019-01-01 10:38:00   compromised184                 end  success\n",
      "10626  2019-01-01 16:07:53   compromised321  login successfully  success\n",
      "10629  2019-01-01 16:07:58   compromised321        view profile  success\n",
      "10630  2019-01-01 16:08:02   compromised321      change address  success\n",
      "10633  2019-01-01 16:08:06   compromised321            buy item  success\n",
      "10636  2019-01-01 16:08:11   compromised321            buy item  success\n",
      "10637  2019-01-01 16:08:13   compromised321           view item  success\n",
      "10639  2019-01-01 16:08:14   compromised321            buy item  success\n",
      "10643  2019-01-01 16:08:17   compromised321            buy item  success\n",
      "10644  2019-01-01 16:08:19   compromised321                 end  success\n",
      "12267  2019-01-01 18:23:29   compromised372        login failed  success\n",
      "12268  2019-01-01 18:23:30   compromised372        login failed  success\n",
      "12269  2019-01-01 18:23:31   compromised372        login failed  success\n",
      "12271  2019-01-01 18:23:34   compromised372        login failed  success\n",
      "12272  2019-01-01 18:23:39   compromised372        login failed  success\n",
      "12273  2019-01-01 18:23:43   compromised372        login failed  success\n",
      "12274  2019-01-01 18:23:45   compromised372        login failed  success\n",
      "12276  2019-01-01 18:23:50   compromised372        login failed  success\n",
      "12277  2019-01-01 18:23:51   compromised372                 end  success\n",
      "14150  2019-01-01 20:48:05  compromised1699        login failed  success\n",
      "14151  2019-01-01 20:48:06  compromised1699                 end  success\n",
      "\n",
      "[66 rows x 4 columns]\n"
     ]
    }
   ],
   "source": [
    "if activate_real_mode:   \n",
    "    print('missed compromised accounts:')\n",
    "    print(day1_data[\n",
    "        (day1_data['realtype'] == 'compromised') & (~day1_data['user'].isin(outcome['identified_users']))\n",
    "    ][['time','user', 'action', 'status']])"
   ]
  },
  {
   "cell_type": "code",
   "execution_count": 17,
   "metadata": {
    "collapsed": false
   },
   "outputs": [
    {
     "name": "stdout",
     "output_type": "stream",
     "text": [
      "Actions done by normal users who triggered rules:\n",
      "                      time       user              action   status\n",
      "15637  2019-01-01 23:04:02  normal660  login successfully  success\n",
      "15643  2019-01-01 23:04:18  normal660           view item  success\n",
      "15650  2019-01-01 23:04:43  normal660           view item  success\n",
      "15666  2019-01-01 23:05:04  normal660            buy item  success\n",
      "15671  2019-01-01 23:05:22  normal660            buy item  success\n",
      "15675  2019-01-01 23:05:32  normal660              logout  success\n",
      "15679  2019-01-01 23:05:45  normal660                 end  success\n"
     ]
    }
   ],
   "source": [
    "if activate_real_mode:\n",
    "#     print('real number of normal users that triggered rules: {}'.format(len(day1_data[day1_data['realtype'] == 'normal']['user'].unique())))\n",
    "    print('Actions done by normal users who triggered rules:')\n",
    "    print(day1_data[\n",
    "#         (day1_data['realtype'] == 'normal') & (day1_data['user'].isin(outcome['identified_users']))\n",
    "        (day1_data['realtype'] == 'normal') & (day1_data['user'] == 'normal660')\n",
    "    ][['time','user', 'action', 'status']])"
   ]
  }
 ],
 "metadata": {
  "kernelspec": {
   "display_name": "Python 3",
   "language": "python",
   "name": "python3"
  },
  "language_info": {
   "codemirror_mode": {
    "name": "ipython",
    "version": 3
   },
   "file_extension": ".py",
   "mimetype": "text/x-python",
   "name": "python",
   "nbconvert_exporter": "python",
   "pygments_lexer": "ipython3",
   "version": "3.6.0"
  }
 },
 "nbformat": 4,
 "nbformat_minor": 2
}
